{
 "cells": [
  {
   "cell_type": "markdown",
   "id": "c74a6a0b-afb6-4e03-b486-1cd21f7892cd",
   "metadata": {},
   "source": [
    "# Ch3 - Linear Neural Network For Regression "
   ]
  },
  {
   "cell_type": "markdown",
   "id": "b97583b3-4d7f-44bf-ab4f-a5078349cfb8",
   "metadata": {},
   "source": [
    "## Matrix calculation"
   ]
  },
  {
   "cell_type": "markdown",
   "id": "a4f624d5-5bfa-4e44-b122-29606ebf56de",
   "metadata": {},
   "source": [
    "### Derivative of matrix -> gradient\n",
    "- 标量/向量求导数 -> 等高线正交方向 -> 变化最大方向\n",
    "\n",
    "### 自动求导数 -> 见笔记"
   ]
  },
  {
   "cell_type": "code",
   "execution_count": 9,
   "id": "1084bbb1-fcdf-42bd-a0eb-d26184a45c87",
   "metadata": {},
   "outputs": [
    {
     "data": {
      "text/plain": [
       "tensor([0., 1., 2., 3.])"
      ]
     },
     "execution_count": 9,
     "metadata": {},
     "output_type": "execute_result"
    }
   ],
   "source": [
    "# code part\n",
    "import torch\n",
    "x = torch.arange(4.0)\n",
    "x"
   ]
  },
  {
   "cell_type": "code",
   "execution_count": 12,
   "id": "da4a7f6d-1c73-46c1-84ae-0e0f8694c936",
   "metadata": {},
   "outputs": [],
   "source": [
    "x.requires_grad_(True)\n",
    "x.grad"
   ]
  },
  {
   "cell_type": "code",
   "execution_count": 13,
   "id": "3d1718d1-ba6f-4abd-be58-91c3c0c87fc6",
   "metadata": {},
   "outputs": [
    {
     "data": {
      "text/plain": [
       "tensor(28., grad_fn=<MulBackward0>)"
      ]
     },
     "execution_count": 13,
     "metadata": {},
     "output_type": "execute_result"
    }
   ],
   "source": [
    "y = 2 * torch.dot(x, x)\n",
    "y"
   ]
  },
  {
   "cell_type": "code",
   "execution_count": 14,
   "id": "ebe609c8-7fa9-4263-9df7-dbf5c1c2d8d9",
   "metadata": {},
   "outputs": [
    {
     "data": {
      "text/plain": [
       "tensor([ 0.,  4.,  8., 12.])"
      ]
     },
     "execution_count": 14,
     "metadata": {},
     "output_type": "execute_result"
    }
   ],
   "source": [
    "y.backward()\n",
    "x.grad"
   ]
  },
  {
   "cell_type": "code",
   "execution_count": 15,
   "id": "4010aa3f-ead7-4111-a3c6-acc22cb37778",
   "metadata": {},
   "outputs": [
    {
     "data": {
      "text/plain": [
       "tensor([True, True, True, True])"
      ]
     },
     "execution_count": 15,
     "metadata": {},
     "output_type": "execute_result"
    }
   ],
   "source": [
    "x.grad == 4 * x"
   ]
  },
  {
   "cell_type": "code",
   "execution_count": 22,
   "id": "dfff2cc7-00c6-480f-88d2-19f33f12d317",
   "metadata": {},
   "outputs": [
    {
     "data": {
      "text/plain": [
       "tensor([0., 0., 0., 0.])"
      ]
     },
     "execution_count": 22,
     "metadata": {},
     "output_type": "execute_result"
    }
   ],
   "source": [
    "# clear previous gradient\n",
    "x.grad.zero_()"
   ]
  },
  {
   "cell_type": "code",
   "execution_count": 23,
   "id": "03e172d5-4a05-4db8-b721-3322c2a117cb",
   "metadata": {},
   "outputs": [
    {
     "data": {
      "text/plain": [
       "tensor([1., 1., 1., 1.])"
      ]
     },
     "execution_count": 23,
     "metadata": {},
     "output_type": "execute_result"
    }
   ],
   "source": [
    "y = x.sum()\n",
    "y.backward()\n",
    "x.grad"
   ]
  },
  {
   "cell_type": "code",
   "execution_count": 25,
   "id": "345515b1-0722-49bd-aa6b-a2cb5a2bdf80",
   "metadata": {},
   "outputs": [
    {
     "data": {
      "text/plain": [
       "tensor([0., 1., 4., 9.])"
      ]
     },
     "execution_count": 25,
     "metadata": {},
     "output_type": "execute_result"
    }
   ],
   "source": [
    "x.grad.zero_()\n",
    "y = x * x\n",
    "u = y.detach()\n",
    "z = u * x\n",
    "z.sum().backward()\n",
    "x.grad"
   ]
  },
  {
   "cell_type": "code",
   "execution_count": 26,
   "id": "f92b0757-7ca9-4ee5-9b7a-4f9669bd0afa",
   "metadata": {},
   "outputs": [
    {
     "data": {
      "text/plain": [
       "tensor([True, True, True, True])"
      ]
     },
     "execution_count": 26,
     "metadata": {},
     "output_type": "execute_result"
    }
   ],
   "source": [
    "x.grad == u"
   ]
  },
  {
   "cell_type": "code",
   "execution_count": 27,
   "id": "71092369-913f-48bc-a0a6-fa063d529b25",
   "metadata": {},
   "outputs": [],
   "source": [
    "def f(a):\n",
    "    b = a * 2\n",
    "    while b.norm() < 1000:\n",
    "        b = b * 2\n",
    "    if b.sum() > 0:\n",
    "        c = b\n",
    "    else:\n",
    "        c = 100 * b\n",
    "    return c "
   ]
  },
  {
   "cell_type": "code",
   "execution_count": 31,
   "id": "bae2cc04-a165-4e38-83ed-06cf9625f850",
   "metadata": {},
   "outputs": [],
   "source": [
    "a = torch.randn(size=(), requires_grad = True)"
   ]
  },
  {
   "cell_type": "code",
   "execution_count": 32,
   "id": "331f1729-ae57-4cb4-bd02-b0baae4a5561",
   "metadata": {},
   "outputs": [],
   "source": [
    "d = f(a)"
   ]
  },
  {
   "cell_type": "code",
   "execution_count": 33,
   "id": "3bc6a12f-d4a6-43e9-abd2-6a1310ca81aa",
   "metadata": {},
   "outputs": [],
   "source": [
    "d.backward() "
   ]
  },
  {
   "cell_type": "code",
   "execution_count": 35,
   "id": "3dd62455-b5e4-4ef3-b4f5-eb11c932d430",
   "metadata": {},
   "outputs": [
    {
     "data": {
      "text/plain": [
       "tensor(True)"
      ]
     },
     "execution_count": 35,
     "metadata": {},
     "output_type": "execute_result"
    }
   ],
   "source": [
    "a.grad == d / a"
   ]
  },
  {
   "cell_type": "markdown",
   "id": "2ff6ffec-497f-433c-8140-56f8f9fda4da",
   "metadata": {},
   "source": [
    "## Softmax\n",
    "- 实际上是分类问题\n",
    "- loss function: cross entropy\n",
    "\n",
    "### Common Loss Functions\n",
    "- "
   ]
  },
  {
   "cell_type": "code",
   "execution_count": null,
   "id": "f3225969-fbd3-4fea-9ccd-35ac8f6bbf88",
   "metadata": {},
   "outputs": [],
   "source": []
  },
  {
   "cell_type": "code",
   "execution_count": null,
   "id": "1577c7c7-ea31-406e-b491-94a47e110aef",
   "metadata": {},
   "outputs": [],
   "source": []
  },
  {
   "cell_type": "code",
   "execution_count": null,
   "id": "738d9602-590b-4ca9-884f-6098e2b96984",
   "metadata": {},
   "outputs": [],
   "source": []
  },
  {
   "cell_type": "code",
   "execution_count": null,
   "id": "33c45af4-9b66-43d3-bbb8-83585e276a5a",
   "metadata": {},
   "outputs": [],
   "source": []
  },
  {
   "cell_type": "code",
   "execution_count": null,
   "id": "83924194-b567-423e-87c5-6310de7f7e73",
   "metadata": {},
   "outputs": [],
   "source": []
  },
  {
   "cell_type": "code",
   "execution_count": null,
   "id": "c6c2c266-7350-4098-8828-b2334908a3d7",
   "metadata": {},
   "outputs": [],
   "source": []
  }
 ],
 "metadata": {
  "kernelspec": {
   "display_name": "Python 3 (ipykernel)",
   "language": "python",
   "name": "python3"
  },
  "language_info": {
   "codemirror_mode": {
    "name": "ipython",
    "version": 3
   },
   "file_extension": ".py",
   "mimetype": "text/x-python",
   "name": "python",
   "nbconvert_exporter": "python",
   "pygments_lexer": "ipython3",
   "version": "3.10.12"
  }
 },
 "nbformat": 4,
 "nbformat_minor": 5
}
